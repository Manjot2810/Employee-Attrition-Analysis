{
  "nbformat": 4,
  "nbformat_minor": 0,
  "metadata": {
    "colab": {
      "provenance": []
    },
    "kernelspec": {
      "name": "python3",
      "display_name": "Python 3"
    },
    "language_info": {
      "name": "python"
    }
  },
  "cells": [
    {
      "cell_type": "code",
      "execution_count": 4,
      "metadata": {
        "colab": {
          "base_uri": "https://localhost:8080/"
        },
        "id": "hKt10W4kui3U",
        "outputId": "95f9653b-5eff-47f0-8400-8f93aeb25f1c"
      },
      "outputs": [
        {
          "output_type": "stream",
          "name": "stdout",
          "text": [
            "Accuracy: 0.8809523809523809\n",
            "[[254   1]\n",
            " [ 34   5]]\n",
            "              precision    recall  f1-score   support\n",
            "\n",
            "           0       0.88      1.00      0.94       255\n",
            "           1       0.83      0.13      0.22        39\n",
            "\n",
            "    accuracy                           0.88       294\n",
            "   macro avg       0.86      0.56      0.58       294\n",
            "weighted avg       0.88      0.88      0.84       294\n",
            "\n"
          ]
        }
      ],
      "source": [
        "# Install required libraries (skip if already installed)\n",
        "# !pip install pandas scikit-learn matplotlib seaborn plotly dash\n",
        "\n",
        "import pandas as pd\n",
        "import numpy as np\n",
        "import seaborn as sns\n",
        "import matplotlib.pyplot as plt\n",
        "from sklearn.model_selection import train_test_split\n",
        "from sklearn.preprocessing import LabelEncoder\n",
        "from sklearn.ensemble import RandomForestClassifier\n",
        "from sklearn.metrics import classification_report, confusion_matrix, accuracy_score\n",
        "import plotly.express as px\n",
        "from dash import Dash, html, dcc, Input, Output\n",
        "\n",
        "# Load dataset\n",
        "df = pd.read_csv(\"Employee Attrition Analysis.csv\")\n",
        "\n",
        "# Drop irrelevant columns\n",
        "df.drop([\"EmployeeNumber\", \"Over18\", \"StandardHours\", \"EmployeeCount\"], axis=1, inplace=True)\n",
        "\n",
        "# Encode categorical variables\n",
        "le = LabelEncoder()\n",
        "for col in df.select_dtypes(include='object'):\n",
        "    df[col] = le.fit_transform(df[col])\n",
        "\n",
        "# Split data\n",
        "X = df.drop(\"Attrition\", axis=1)\n",
        "y = df[\"Attrition\"]  # 1 = Yes, 0 = No\n",
        "X_train, X_test, y_train, y_test = train_test_split(X, y, test_size=0.2, random_state=42)\n",
        "\n",
        "# Train model\n",
        "model = RandomForestClassifier(random_state=42)\n",
        "model.fit(X_train, y_train)\n",
        "\n",
        "# Evaluate\n",
        "y_pred = model.predict(X_test)\n",
        "print(\"Accuracy:\", accuracy_score(y_test, y_pred))\n",
        "print(confusion_matrix(y_test, y_pred))\n",
        "print(classification_report(y_test, y_pred))\n",
        "\n",
        "# Feature importance\n",
        "importances = pd.Series(model.feature_importances_, index=X.columns).sort_values(ascending=False)\n",
        "top_features = importances.head(10)\n",
        "\n",
        "# --------- Build Dashboard ---------\n",
        "\n",
        "app = Dash()\n",
        "\n",
        "app.layout = html.Div([\n",
        "    html.H1(\"HR Dashboard: Employee Attrition Insights\", style={'textAlign': 'center'}),\n",
        "\n",
        "    dcc.Dropdown(\n",
        "        id='feature-dropdown',\n",
        "        options=[{'label': col, 'value': col} for col in top_features.index],\n",
        "        value='Age',\n",
        "        style={'width': '50%', 'margin': 'auto'}\n",
        "    ),\n",
        "\n",
        "    dcc.Graph(id='feature-graph'),\n",
        "\n",
        "    html.H3(\"Top Factors Influencing Attrition\", style={'textAlign': 'center'}),\n",
        "    dcc.Graph(\n",
        "        figure=px.bar(top_features, title=\"Top 10 Important Features\")\n",
        "    )\n",
        "])\n",
        "\n",
        "@app.callback(\n",
        "    Output('feature-graph', 'figure'),\n",
        "    Input('feature-dropdown', 'value')\n",
        ")\n",
        "def update_graph(selected_feature):\n",
        "    fig = px.box(df, x=\"Attrition\", y=selected_feature, color=\"Attrition\",\n",
        "                 labels={\"Attrition\": \"Attrition (0=No, 1=Yes)\"})\n",
        "    return fig"
      ]
    }
  ]
}